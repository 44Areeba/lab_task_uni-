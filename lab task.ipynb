{
 "cells": [
  {
   "cell_type": "code",
   "execution_count": 3,
   "id": "2ccf4622",
   "metadata": {},
   "outputs": [
    {
     "name": "stdout",
     "output_type": "stream",
     "text": [
      "    January 2022\n",
      "Mo Tu We Th Fr Sa Su\n",
      "                1  2\n",
      " 3  4  5  6  7  8  9\n",
      "10 11 12 13 14 15 16\n",
      "17 18 19 20 21 22 23\n",
      "24 25 26 27 28 29 30\n",
      "31\n",
      "\n"
     ]
    }
   ],
   "source": [
    "import calendar\n",
    "print(calendar.month(2022,1))\n"
   ]
  },
  {
   "cell_type": "code",
   "execution_count": 4,
   "id": "43cc6cb1",
   "metadata": {},
   "outputs": [],
   "source": [
    "#two dimensional array\n",
    "import numpy as np\n"
   ]
  },
  {
   "cell_type": "code",
   "execution_count": 5,
   "id": "e020086e",
   "metadata": {},
   "outputs": [
    {
     "name": "stdout",
     "output_type": "stream",
     "text": [
      "[[1 2 3 4 3]\n",
      " [2 4 6 8 5]\n",
      " [1 3 6 8 4]]\n"
     ]
    }
   ],
   "source": [
    "my_array=np.array([[1,2,3,4,3],[2,4,6,8,5],[1,3,6,8,4]])\n",
    "print((my_array))"
   ]
  },
  {
   "cell_type": "code",
   "execution_count": 6,
   "id": "e8eff498",
   "metadata": {},
   "outputs": [
    {
     "name": "stdout",
     "output_type": "stream",
     "text": [
      "[[1 2 3 4 3]\n",
      " [2 4 6 8 5]\n",
      " [1 3 6 8 4]\n",
      " [2 4 6 8 7]]\n"
     ]
    }
   ],
   "source": [
    "my_array1=np.insert(my_array,3,[[2,4,6,8,7]],axis=0)\n",
    "print(my_array1)"
   ]
  },
  {
   "cell_type": "code",
   "execution_count": 7,
   "id": "395545ed",
   "metadata": {},
   "outputs": [
    {
     "name": "stdout",
     "output_type": "stream",
     "text": [
      "[[1 2 3 2 4 3]\n",
      " [2 4 6 4 8 5]\n",
      " [1 3 6 6 8 4]]\n"
     ]
    }
   ],
   "source": [
    "my_array2=np.insert(my_array,3,[[2,4,6]],axis=1)\n",
    "print(my_array2)"
   ]
  },
  {
   "cell_type": "code",
   "execution_count": 8,
   "id": "8558b90c",
   "metadata": {},
   "outputs": [
    {
     "data": {
      "text/plain": [
       "6"
      ]
     },
     "execution_count": 8,
     "metadata": {},
     "output_type": "execute_result"
    }
   ],
   "source": [
    "len(my_array2[1])\n"
   ]
  },
  {
   "cell_type": "code",
   "execution_count": 12,
   "id": "f320612c",
   "metadata": {},
   "outputs": [
    {
     "name": "stdout",
     "output_type": "stream",
     "text": [
      "1\n",
      "2\n",
      "3\n",
      "4\n",
      "3\n",
      "2\n",
      "4\n",
      "6\n",
      "8\n",
      "5\n",
      "1\n",
      "3\n",
      "6\n",
      "8\n",
      "4\n"
     ]
    }
   ],
   "source": [
    "def traver(array):\n",
    "    for i in range(len(array)):\n",
    "        for j in range(len(array[0])):\n",
    "            print(array[i][j])\n",
    "traver(my_array)\n",
    "                       "
   ]
  },
  {
   "cell_type": "code",
   "execution_count": null,
   "id": "b6a8cfde",
   "metadata": {},
   "outputs": [],
   "source": []
  }
 ],
 "metadata": {
  "kernelspec": {
   "display_name": "Python 3",
   "language": "python",
   "name": "python3"
  },
  "language_info": {
   "codemirror_mode": {
    "name": "ipython",
    "version": 3
   },
   "file_extension": ".py",
   "mimetype": "text/x-python",
   "name": "python",
   "nbconvert_exporter": "python",
   "pygments_lexer": "ipython3",
   "version": "3.8.8"
  }
 },
 "nbformat": 4,
 "nbformat_minor": 5
}
